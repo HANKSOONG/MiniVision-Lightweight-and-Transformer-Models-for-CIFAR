{
  "cells": [
    {
      "cell_type": "code",
      "source": [
        "from google.colab import drive\n",
        "drive.mount('/content/drive')"
      ],
      "metadata": {
        "id": "QJ4juo3ZwJYA"
      },
      "id": "QJ4juo3ZwJYA",
      "execution_count": null,
      "outputs": []
    },
    {
      "cell_type": "code",
      "source": [
        "import torch\n",
        "import torch.nn as nn\n",
        "import torch.optim as optim\n",
        "from torch.optim.lr_scheduler import ReduceLROnPlateau\n",
        "from torchvision import datasets, transforms\n",
        "from torch.utils.data import DataLoader, random_split\n",
        "import timm\n",
        "import random\n",
        "import numpy as np\n",
        "import matplotlib.pyplot as plt\n",
        "from tqdm import tqdm"
      ],
      "metadata": {
        "id": "HciX0OtyxFVz"
      },
      "id": "HciX0OtyxFVz",
      "execution_count": null,
      "outputs": []
    },
    {
      "cell_type": "code",
      "source": [
        "# Set seed for reproducibility\n",
        "random.seed(42)\n",
        "torch.manual_seed(42)\n",
        "np.random.seed(42)\n",
        "\n",
        "device = torch.device(\"cuda\" if torch.cuda.is_available() else \"cpu\")\n",
        "\n",
        "# === Data loading ===\n",
        "transform_train = transforms.Compose([\n",
        "    transforms.RandomCrop(32, padding=4),\n",
        "    transforms.RandomHorizontalFlip(),\n",
        "    transforms.ToTensor(),\n",
        "    transforms.Normalize((0.5,), (0.5,))\n",
        "])\n",
        "\n",
        "transform_test = transforms.Compose([\n",
        "    transforms.ToTensor(),\n",
        "    transforms.Normalize((0.5,), (0.5,))\n",
        "])\n",
        "\n",
        "full_train = datasets.CIFAR100(root='./data', train=True, download=True, transform=transform_train)\n",
        "test_set = datasets.CIFAR100(root='./data', train=False, download=True, transform=transform_test)\n",
        "\n",
        "val_ratio = 0.1\n",
        "val_size = int(len(full_train) * val_ratio)\n",
        "train_size = len(full_train) - val_size\n",
        "train_set, val_set = random_split(full_train, [train_size, val_size])\n",
        "\n",
        "train_loader = DataLoader(train_set, batch_size=128, shuffle=True, num_workers=2)\n",
        "val_loader = DataLoader(val_set, batch_size=128, shuffle=False, num_workers=2)\n",
        "test_loader = DataLoader(test_set, batch_size=128, shuffle=False, num_workers=2)\n"
      ],
      "metadata": {
        "id": "uVQMmmfBxNt-"
      },
      "id": "uVQMmmfBxNt-",
      "execution_count": null,
      "outputs": []
    },
    {
      "cell_type": "code",
      "source": [
        "# Model\n",
        "model = timm.create_model('efficientnet_b0', pretrained=False, num_classes=100)\n",
        "model.to(device)\n",
        "\n",
        "# Load CIFAR-10-trained weights, excluding classifier\n",
        "state_dict = torch.load(\"/content/drive/MyDrive/rec_model/efnet/efficientnetb0_best.pth\")\n",
        "\n",
        "# Remove classifier weights\n",
        "filtered_dict = {k: v for k, v in state_dict.items() if not k.startswith(\"classifier\")}\n",
        "model.load_state_dict(filtered_dict, strict=False)  # ignore classifier mismatch\n",
        "\n",
        "print(\"Loaded EfficientNet-B0 backbone weights from CIFAR-10.\")\n"
      ],
      "metadata": {
        "id": "qvFTA1qXovvk"
      },
      "id": "qvFTA1qXovvk",
      "execution_count": null,
      "outputs": []
    },
    {
      "cell_type": "code",
      "source": [
        "# Loss, Optimizer, Scheduler\n",
        "loss_fn = nn.CrossEntropyLoss()\n",
        "optimizer = optim.Adam(model.parameters(), lr=0.001)\n",
        "scheduler = ReduceLROnPlateau(optimizer, mode='max', factor=0.5, patience=5, threshold=1e-3, verbose=True)\n",
        "\n",
        "# Training Config\n",
        "epochs = 100\n",
        "early_stop_patience = 15\n",
        "best_val_acc = 0.0\n",
        "no_improvement = 0\n",
        "save_path = \"/content/drive/MyDrive/cifar100model/efficientnetb0_best.pth\"\n",
        "\n",
        "train_losses, train_accuracies, val_accuracies, lr_history = [], [], [], []"
      ],
      "metadata": {
        "id": "x6ejm1b3xT1c"
      },
      "id": "x6ejm1b3xT1c",
      "execution_count": null,
      "outputs": []
    },
    {
      "cell_type": "code",
      "source": [
        "# Training Loop\n",
        "for epoch in range(epochs):\n",
        "    model.train()\n",
        "    epoch_loss = 0\n",
        "    correct = 0\n",
        "    total = 0\n",
        "\n",
        "    for imgs, labels in tqdm(train_loader, desc=f\"Epoch {epoch+1}\"):\n",
        "        imgs, labels = imgs.to(device), labels.to(device)\n",
        "\n",
        "        optimizer.zero_grad()\n",
        "        outputs = model(imgs)\n",
        "        loss = loss_fn(outputs, labels)\n",
        "        loss.backward()\n",
        "        optimizer.step()\n",
        "\n",
        "        epoch_loss += loss.item()\n",
        "        preds = outputs.argmax(dim=1)\n",
        "        correct += (preds == labels).sum().item()\n",
        "        total += labels.size(0)\n",
        "\n",
        "    avg_loss = epoch_loss / len(train_loader)\n",
        "    train_acc = correct / total\n",
        "\n",
        "    # === Validation ===\n",
        "    model.eval()\n",
        "    val_correct, val_total = 0, 0\n",
        "    with torch.no_grad():\n",
        "        for imgs, labels in val_loader:\n",
        "            imgs, labels = imgs.to(device), labels.to(device)\n",
        "            outputs = model(imgs)\n",
        "            preds = outputs.argmax(dim=1)\n",
        "            val_correct += (preds == labels).sum().item()\n",
        "            val_total += labels.size(0)\n",
        "    val_acc = val_correct / val_total\n",
        "\n",
        "    # Logging\n",
        "    train_losses.append(avg_loss)\n",
        "    train_accuracies.append(train_acc)\n",
        "    val_accuracies.append(val_acc)\n",
        "    lr_history.append(optimizer.param_groups[0]['lr'])\n",
        "\n",
        "    print(f\"[Epoch {epoch+1}] Loss: {avg_loss:.4f} | Train Acc: {train_acc:.4f} | Val Acc: {val_acc:.4f}\")\n",
        "    print(f\"[Epoch {epoch+1}] LR: {optimizer.param_groups[0]['lr']:.6f}\")\n",
        "\n",
        "    scheduler.step(val_acc)\n",
        "\n",
        "    if val_acc > best_val_acc:\n",
        "        print(f\"New best val acc! Saving to {save_path}\")\n",
        "        best_val_acc = val_acc\n",
        "        no_improvement = 0\n",
        "        torch.save(model.state_dict(), save_path)\n",
        "    else:\n",
        "        no_improvement += 1\n",
        "        print(f\"No improvement for {no_improvement} epoch(s).\")\n",
        "\n",
        "    if no_improvement >= early_stop_patience:\n",
        "        print(\"Early stopping triggered.\")\n",
        "        break\n"
      ],
      "metadata": {
        "id": "oSEJDT0ExdVb"
      },
      "id": "oSEJDT0ExdVb",
      "execution_count": null,
      "outputs": []
    },
    {
      "cell_type": "code",
      "source": [
        "# === Plot Accuracy ===\n",
        "plt.figure(figsize=(10,5))\n",
        "plt.plot(train_accuracies, label=\"Train Accuracy\")\n",
        "plt.plot(val_accuracies, label=\"Validation Accuracy\")\n",
        "plt.xlabel(\"Epoch\")\n",
        "plt.ylabel(\"Accuracy\")\n",
        "plt.legend()\n",
        "plt.title(\"EfficientnetB0 Accuracy on CIFAR-100\")\n",
        "plt.grid()\n",
        "plt.savefig(\"/content/drive/MyDrive/cifar100model/efficientnetB0_accuracy_curve.png\")\n",
        "plt.show()"
      ],
      "metadata": {
        "id": "YBExSiYbyyH4"
      },
      "id": "YBExSiYbyyH4",
      "execution_count": null,
      "outputs": []
    },
    {
      "cell_type": "code",
      "source": [
        "plt.plot(train_losses, label=\"Training Loss\")\n",
        "plt.xlabel(\"Epoch\")\n",
        "plt.ylabel(\"Loss\")\n",
        "plt.title(\"Training Loss Curve\")\n",
        "plt.grid(True)\n",
        "plt.show()"
      ],
      "metadata": {
        "id": "sPqe3esyy0s1"
      },
      "id": "sPqe3esyy0s1",
      "execution_count": null,
      "outputs": []
    },
    {
      "cell_type": "code",
      "source": [
        "import pandas as pd\n",
        "\n",
        "log_df = pd.DataFrame({\n",
        "    \"epoch\": list(range(1, len(train_losses)+1)),\n",
        "    \"train_loss\": train_losses,\n",
        "    \"train_acc\": train_accuracies,\n",
        "    \"val_acc\": val_accuracies,\n",
        "    \"lr\": lr_history\n",
        "})\n",
        "\n",
        "log_df.to_csv(\"/content/drive/MyDrive/cifar100model/ef_training_log.csv\", index=False)\n",
        "log_df.head()"
      ],
      "metadata": {
        "id": "2oZ8ibhHy3zv"
      },
      "id": "2oZ8ibhHy3zv",
      "execution_count": null,
      "outputs": []
    },
    {
      "cell_type": "code",
      "source": [
        "# === Evaluation Function ===\n",
        "def evaluate(model, data_loader):\n",
        "    model.eval()  # Set the model to evaluation mode\n",
        "    correct = 0\n",
        "    total = 0\n",
        "    with torch.no_grad():  # No gradients needed for evaluation\n",
        "        for imgs, labels in data_loader:\n",
        "            # Assuming 'device' is defined elsewhere (e.g., \"cuda\" or \"cpu\")\n",
        "            imgs, labels = imgs.to(device), labels.to(device)\n",
        "            outputs = model(imgs)\n",
        "            preds = outputs.argmax(dim=1)\n",
        "            correct += (preds == labels).sum().item()\n",
        "            total += labels.size(0)\n",
        "    return correct / total\n",
        "\n",
        "model.load_state_dict(torch.load(save_path))\n",
        "test_acc = evaluate(model, test_loader)\n",
        "print(f\"Final Test Accuracy: {test_acc:.4f}\")"
      ],
      "metadata": {
        "id": "F2Jx7ZUNy6Q5"
      },
      "id": "F2Jx7ZUNy6Q5",
      "execution_count": null,
      "outputs": []
    }
  ],
  "metadata": {
    "kernelspec": {
      "display_name": "Python 3",
      "name": "python3"
    },
    "language_info": {
      "codemirror_mode": {
        "name": "ipython",
        "version": 3
      },
      "file_extension": ".py",
      "mimetype": "text/x-python",
      "name": "python",
      "nbconvert_exporter": "python",
      "pygments_lexer": "ipython3",
      "version": "3.11.0"
    },
    "colab": {
      "provenance": [],
      "machine_shape": "hm",
      "gpuType": "L4"
    },
    "accelerator": "GPU"
  },
  "nbformat": 4,
  "nbformat_minor": 5
}